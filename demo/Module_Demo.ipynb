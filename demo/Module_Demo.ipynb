{
 "cells": [
  {
   "cell_type": "markdown",
   "metadata": {},
   "source": [
    "### This notebook demonstrates [vaquero](https://github.com/jbn/vaquero)."
   ]
  },
  {
   "cell_type": "markdown",
   "metadata": {},
   "source": [
    "Let's say you are processing some html files for users. Someone on your\n",
    "team already used css selectors to extract a dict of attributes that \n",
    "looks like:"
   ]
  },
  {
   "cell_type": "code",
   "execution_count": 1,
   "metadata": {
    "collapsed": true
   },
   "outputs": [],
   "source": [
    "data = [{'user_name': \"Jack\", 'user_age': \"42.0\"},\n",
    "        {'user_name': \"Jill\", 'user_age': 64},\n",
    "        {'user_name': \"Jane\", 'user_age': \"lamp\"}]"
   ]
  },
  {
   "cell_type": "markdown",
   "metadata": {},
   "source": [
    "You create a pipeline in a file named `username_pipeline.py` with \n",
    "contents:"
   ]
  },
  {
   "cell_type": "code",
   "execution_count": 2,
   "metadata": {
    "collapsed": false
   },
   "outputs": [
    {
     "name": "stdout",
     "output_type": "stream",
     "text": [
      "from vaquero.transformations import sstrip\r\n",
      "\r\n",
      "\r\n",
      "def extract_username(src_d, dst_d):\r\n",
      "    # Copy the user's name, then normalize it.\r\n",
      "    dst_d['name'] = sstrip(src_d['user_name']).lower()\r\n",
      "\r\n",
      "def _robust_int(s):\r\n",
      "    # Try to convert s into an int.\r\n",
      "    try:\r\n",
      "        return int(s)\r\n",
      "    except ValueError:\r\n",
      "        return int(float(s))\r\n",
      "\r\n",
      "def extract_age(src_d, dst_d):\r\n",
      "    # Extract the age as an int.\r\n",
      "    dst_d['age'] = _robust_int(src_d['user_age'])\r\n"
     ]
    }
   ],
   "source": [
    "!cat username_pipeline.py"
   ]
  },
  {
   "cell_type": "code",
   "execution_count": 3,
   "metadata": {
    "collapsed": true
   },
   "outputs": [],
   "source": [
    "from vaquero import ModulePipeline, Vaquero\n",
    "import username_pipeline"
   ]
  },
  {
   "cell_type": "markdown",
   "metadata": {},
   "source": [
    "After importing necessities, you:\n",
    "- create a vaquero object which gathers the results of your pipeline's applications\n",
    "- create a module pipeline, which wraps and parses the python module\n",
    "- register the targets in the pipeline, so vaquero knows what to observe.\n",
    "​"
   ]
  },
  {
   "cell_type": "code",
   "execution_count": 4,
   "metadata": {
    "collapsed": false
   },
   "outputs": [],
   "source": [
    "vaq = Vaquero()\n",
    "pipeline = ModulePipeline(username_pipeline)\n",
    "vaq.register_targets(pipeline)"
   ]
  },
  {
   "cell_type": "markdown",
   "metadata": {},
   "source": [
    "Now, you can run your pipeline over the data, piece by piece. I usually reset the `vaq` object at the top of the processing cell. This way, I'm not accidentally looking at stale errors, which happens a lot. "
   ]
  },
  {
   "cell_type": "code",
   "execution_count": 5,
   "metadata": {
    "collapsed": false
   },
   "outputs": [
    {
     "data": {
      "text/plain": [
       "{'failures': 1,\n",
       " 'failures_by': {'_robust_int': 1},\n",
       " 'ignored': 0,\n",
       " 'successes': 2}"
      ]
     },
     "execution_count": 5,
     "metadata": {},
     "output_type": "execute_result"
    }
   ],
   "source": [
    "vaq.reset() \n",
    "\n",
    "clean = []\n",
    "for doc in data:\n",
    "    with vaq:  # Capture exceptions.\n",
    "        d = {}\n",
    "        pipeline(doc, d)\n",
    "        clean.append(d)\n",
    "        \n",
    "vaq.stats()"
   ]
  },
  {
   "cell_type": "markdown",
   "metadata": {},
   "source": [
    "The stats show one error. You can examine the entire set of errors for some offending function with:"
   ]
  },
  {
   "cell_type": "code",
   "execution_count": 6,
   "metadata": {
    "collapsed": false
   },
   "outputs": [
    {
     "data": {
      "text/plain": [
       "[{'call_args': ['lamp'],\n",
       "  'exc_type': 'ValueError',\n",
       "  'exc_value': \"could not convert string to float: 'lamp'\",\n",
       "  'filename': 'username_pipeline.py',\n",
       "  'lineno': 13,\n",
       "  'name': '_robust_int'}]"
      ]
     },
     "execution_count": 6,
     "metadata": {},
     "output_type": "execute_result"
    }
   ],
   "source": [
    "vaq.examine('_robust_int')"
   ]
  },
  {
   "cell_type": "markdown",
   "metadata": {},
   "source": [
    "But, more often than not, the exception values are sufficient:"
   ]
  },
  {
   "cell_type": "code",
   "execution_count": 7,
   "metadata": {
    "collapsed": false
   },
   "outputs": [
    {
     "data": {
      "text/plain": [
       "[\"could not convert string to float: 'lamp'\"]"
      ]
     },
     "execution_count": 7,
     "metadata": {},
     "output_type": "execute_result"
    }
   ],
   "source": [
    "vaq.examine('_robust_int', '[*].exc_value')"
   ]
  },
  {
   "cell_type": "markdown",
   "metadata": {},
   "source": [
    "Perhaps, you see a bug in your code. Fix it in the pipeline python file, then do"
   ]
  },
  {
   "cell_type": "code",
   "execution_count": 8,
   "metadata": {
    "collapsed": true
   },
   "outputs": [],
   "source": [
    "pipeline.reload()"
   ]
  },
  {
   "cell_type": "markdown",
   "metadata": {},
   "source": [
    "And try again."
   ]
  },
  {
   "cell_type": "markdown",
   "metadata": {},
   "source": [
    "In the end, you have clean data, and a semi-decent code base."
   ]
  },
  {
   "cell_type": "code",
   "execution_count": 9,
   "metadata": {
    "collapsed": false
   },
   "outputs": [
    {
     "data": {
      "text/plain": [
       "[{'age': 42, 'name': 'jack'}, {'age': 64, 'name': 'jill'}]"
      ]
     },
     "execution_count": 9,
     "metadata": {},
     "output_type": "execute_result"
    }
   ],
   "source": [
    "clean"
   ]
  }
 ],
 "metadata": {
  "anaconda-cloud": {},
  "kernelspec": {
   "display_name": "Python [conda env:njnj]",
   "language": "python",
   "name": "conda-env-njnj-py"
  },
  "language_info": {
   "codemirror_mode": {
    "name": "ipython",
    "version": 3
   },
   "file_extension": ".py",
   "mimetype": "text/x-python",
   "name": "python",
   "nbconvert_exporter": "python",
   "pygments_lexer": "ipython3",
   "version": "3.5.2"
  }
 },
 "nbformat": 4,
 "nbformat_minor": 1
}
